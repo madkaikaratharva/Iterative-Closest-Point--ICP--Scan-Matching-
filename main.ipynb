{
 "cells": [
  {
   "cell_type": "code",
   "execution_count": null,
   "metadata": {},
   "outputs": [],
   "source": [
    "import numpy as np\n",
    "import open3d as o3d\n",
    "import os\n",
    "from icp_scanmatch import IcpScanMatch"
   ]
  },
  {
   "cell_type": "code",
   "execution_count": null,
   "metadata": {},
   "outputs": [],
   "source": [
    "# Iterative Closest Point Scan Matcher\n",
    "\n",
    "# Obtain directory where point clouds are stored\n",
    "dir = os.path.abspath(\"Data/\")\n",
    "\n",
    "# Load point Clouds\n",
    "pcd1 = o3d.io.read_point_cloud(dir+'/bunny1.ply')\n",
    "pcd2 = o3d.io.read_point_cloud(dir+'/bunny2.ply')\n",
    "\n",
    "# Convert Point clouds to numpy arrays \n",
    "points1 = np.array(pcd1.points)\n",
    "points2 = np.array(pcd2.points)\n",
    "\n",
    "# Initialize and perform ICP Scan Matching on Point Clouds\n",
    "\n",
    "# Note: If correspondence is known, set correspondence=True\n",
    "scan_matcher = IcpScanMatch(points1, points2, n_iters=100, threshold=0.01, correspondenc=False)\n",
    "scan_matcher.scan_matching()"
   ]
  }
 ],
 "metadata": {
  "kernelspec": {
   "display_name": "Python 3",
   "language": "python",
   "name": "python3"
  },
  "language_info": {
   "codemirror_mode": {
    "name": "ipython",
    "version": 3
   },
   "file_extension": ".py",
   "mimetype": "text/x-python",
   "name": "python",
   "nbconvert_exporter": "python",
   "pygments_lexer": "ipython3",
   "version": "3.8.10"
  }
 },
 "nbformat": 4,
 "nbformat_minor": 2
}
